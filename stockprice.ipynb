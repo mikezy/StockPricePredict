{
  "nbformat": 4,
  "nbformat_minor": 0,
  "metadata": {
    "colab": {
      "name": "stockprice.ipynb",
      "provenance": [],
      "authorship_tag": "ABX9TyMbyPkpUfv2syayEdb5IS0t",
      "include_colab_link": true
    },
    "kernelspec": {
      "name": "python3",
      "display_name": "Python 3"
    }
  },
  "cells": [
    {
      "cell_type": "markdown",
      "metadata": {
        "id": "view-in-github",
        "colab_type": "text"
      },
      "source": [
        "<a href=\"https://colab.research.google.com/github/mikezy/StockPricePredict/blob/master/stockprice.ipynb\" target=\"_parent\"><img src=\"https://colab.research.google.com/assets/colab-badge.svg\" alt=\"Open In Colab\"/></a>"
      ]
    },
    {
      "cell_type": "code",
      "metadata": {
        "id": "8YIzGVnvVS_n",
        "colab_type": "code",
        "colab": {}
      },
      "source": [
        "# Description: This program uses an artificial recurrent neural network called Long Short Term Memory (LSTM)\n",
        "#        to predict the closing stock price for Amazon.com Inc, using the past 60 day stock price."
      ],
      "execution_count": 0,
      "outputs": []
    },
    {
      "cell_type": "code",
      "metadata": {
        "id": "W4njnkG5jF9h",
        "colab_type": "code",
        "colab": {
          "base_uri": "https://localhost:8080/",
          "height": 91
        },
        "outputId": "281e3890-d537-45a8-b0a0-7bdafaf64a17"
      },
      "source": [
        "#import the libraries\n",
        "import math\n",
        "import pandas as pd\n",
        "import pandas_datareader as web\n",
        "import numpy as np\n",
        "from sklearn.preprocessing import MinMaxScaler\n",
        "from keras.models import Sequential\n",
        "from keras.layers import Dense,LSTM\n",
        "import matplotlib.pyplot as plt\n",
        "plt.style.use('fivethirtyeight')\n",
        "\n"
      ],
      "execution_count": 1,
      "outputs": [
        {
          "output_type": "stream",
          "text": [
            "/usr/local/lib/python3.6/dist-packages/pandas_datareader/compat/__init__.py:7: FutureWarning: pandas.util.testing is deprecated. Use the functions in the public API at pandas.testing instead.\n",
            "  from pandas.util.testing import assert_frame_equal\n",
            "Using TensorFlow backend.\n"
          ],
          "name": "stderr"
        }
      ]
    },
    {
      "cell_type": "code",
      "metadata": {
        "id": "FwUMfwGCj9hp",
        "colab_type": "code",
        "colab": {
          "base_uri": "https://localhost:8080/",
          "height": 450
        },
        "outputId": "65a55098-ec4e-4cd3-f706-1e69eb38d935"
      },
      "source": [
        "#Get stock price\n",
        "df = web.DataReader('AMZN', data_source='yahoo', start='2012-01-01', end='2020-03-04')\n",
        "#Show the data\n",
        "df"
      ],
      "execution_count": 32,
      "outputs": [
        {
          "output_type": "execute_result",
          "data": {
            "text/html": [
              "<div>\n",
              "<style scoped>\n",
              "    .dataframe tbody tr th:only-of-type {\n",
              "        vertical-align: middle;\n",
              "    }\n",
              "\n",
              "    .dataframe tbody tr th {\n",
              "        vertical-align: top;\n",
              "    }\n",
              "\n",
              "    .dataframe thead th {\n",
              "        text-align: right;\n",
              "    }\n",
              "</style>\n",
              "<table border=\"1\" class=\"dataframe\">\n",
              "  <thead>\n",
              "    <tr style=\"text-align: right;\">\n",
              "      <th></th>\n",
              "      <th>High</th>\n",
              "      <th>Low</th>\n",
              "      <th>Open</th>\n",
              "      <th>Close</th>\n",
              "      <th>Volume</th>\n",
              "      <th>Adj Close</th>\n",
              "    </tr>\n",
              "    <tr>\n",
              "      <th>Date</th>\n",
              "      <th></th>\n",
              "      <th></th>\n",
              "      <th></th>\n",
              "      <th></th>\n",
              "      <th></th>\n",
              "      <th></th>\n",
              "    </tr>\n",
              "  </thead>\n",
              "  <tbody>\n",
              "    <tr>\n",
              "      <th>2012-01-03</th>\n",
              "      <td>179.479996</td>\n",
              "      <td>175.550003</td>\n",
              "      <td>175.889999</td>\n",
              "      <td>179.029999</td>\n",
              "      <td>5110800</td>\n",
              "      <td>179.029999</td>\n",
              "    </tr>\n",
              "    <tr>\n",
              "      <th>2012-01-04</th>\n",
              "      <td>180.500000</td>\n",
              "      <td>176.070007</td>\n",
              "      <td>179.210007</td>\n",
              "      <td>177.509995</td>\n",
              "      <td>4205200</td>\n",
              "      <td>177.509995</td>\n",
              "    </tr>\n",
              "    <tr>\n",
              "      <th>2012-01-05</th>\n",
              "      <td>178.250000</td>\n",
              "      <td>174.050003</td>\n",
              "      <td>175.940002</td>\n",
              "      <td>177.610001</td>\n",
              "      <td>3809100</td>\n",
              "      <td>177.610001</td>\n",
              "    </tr>\n",
              "    <tr>\n",
              "      <th>2012-01-06</th>\n",
              "      <td>184.649994</td>\n",
              "      <td>177.500000</td>\n",
              "      <td>178.070007</td>\n",
              "      <td>182.610001</td>\n",
              "      <td>7008400</td>\n",
              "      <td>182.610001</td>\n",
              "    </tr>\n",
              "    <tr>\n",
              "      <th>2012-01-09</th>\n",
              "      <td>184.369995</td>\n",
              "      <td>177.000000</td>\n",
              "      <td>182.759995</td>\n",
              "      <td>178.559998</td>\n",
              "      <td>5056900</td>\n",
              "      <td>178.559998</td>\n",
              "    </tr>\n",
              "    <tr>\n",
              "      <th>...</th>\n",
              "      <td>...</td>\n",
              "      <td>...</td>\n",
              "      <td>...</td>\n",
              "      <td>...</td>\n",
              "      <td>...</td>\n",
              "      <td>...</td>\n",
              "    </tr>\n",
              "    <tr>\n",
              "      <th>2020-02-27</th>\n",
              "      <td>1975.000000</td>\n",
              "      <td>1882.760010</td>\n",
              "      <td>1934.380005</td>\n",
              "      <td>1884.300049</td>\n",
              "      <td>8144000</td>\n",
              "      <td>1884.300049</td>\n",
              "    </tr>\n",
              "    <tr>\n",
              "      <th>2020-02-28</th>\n",
              "      <td>1889.760010</td>\n",
              "      <td>1811.130005</td>\n",
              "      <td>1814.630005</td>\n",
              "      <td>1883.750000</td>\n",
              "      <td>9493800</td>\n",
              "      <td>1883.750000</td>\n",
              "    </tr>\n",
              "    <tr>\n",
              "      <th>2020-03-02</th>\n",
              "      <td>1954.510010</td>\n",
              "      <td>1870.000000</td>\n",
              "      <td>1906.489990</td>\n",
              "      <td>1953.949951</td>\n",
              "      <td>6761700</td>\n",
              "      <td>1953.949951</td>\n",
              "    </tr>\n",
              "    <tr>\n",
              "      <th>2020-03-03</th>\n",
              "      <td>1996.329956</td>\n",
              "      <td>1888.089966</td>\n",
              "      <td>1975.369995</td>\n",
              "      <td>1908.989990</td>\n",
              "      <td>7534500</td>\n",
              "      <td>1908.989990</td>\n",
              "    </tr>\n",
              "    <tr>\n",
              "      <th>2020-03-04</th>\n",
              "      <td>1978.000000</td>\n",
              "      <td>1922.000000</td>\n",
              "      <td>1946.569946</td>\n",
              "      <td>1975.829956</td>\n",
              "      <td>4772900</td>\n",
              "      <td>1975.829956</td>\n",
              "    </tr>\n",
              "  </tbody>\n",
              "</table>\n",
              "<p>2055 rows × 6 columns</p>\n",
              "</div>"
            ],
            "text/plain": [
              "                   High          Low  ...   Volume    Adj Close\n",
              "Date                                  ...                      \n",
              "2012-01-03   179.479996   175.550003  ...  5110800   179.029999\n",
              "2012-01-04   180.500000   176.070007  ...  4205200   177.509995\n",
              "2012-01-05   178.250000   174.050003  ...  3809100   177.610001\n",
              "2012-01-06   184.649994   177.500000  ...  7008400   182.610001\n",
              "2012-01-09   184.369995   177.000000  ...  5056900   178.559998\n",
              "...                 ...          ...  ...      ...          ...\n",
              "2020-02-27  1975.000000  1882.760010  ...  8144000  1884.300049\n",
              "2020-02-28  1889.760010  1811.130005  ...  9493800  1883.750000\n",
              "2020-03-02  1954.510010  1870.000000  ...  6761700  1953.949951\n",
              "2020-03-03  1996.329956  1888.089966  ...  7534500  1908.989990\n",
              "2020-03-04  1978.000000  1922.000000  ...  4772900  1975.829956\n",
              "\n",
              "[2055 rows x 6 columns]"
            ]
          },
          "metadata": {
            "tags": []
          },
          "execution_count": 32
        }
      ]
    },
    {
      "cell_type": "code",
      "metadata": {
        "id": "ic2jqmKekc3I",
        "colab_type": "code",
        "colab": {
          "base_uri": "https://localhost:8080/",
          "height": 35
        },
        "outputId": "002049ed-884a-4823-8bf3-e25438673b2e"
      },
      "source": [
        "#Get the rows and cols\n",
        "df.shape"
      ],
      "execution_count": 33,
      "outputs": [
        {
          "output_type": "execute_result",
          "data": {
            "text/plain": [
              "(2055, 6)"
            ]
          },
          "metadata": {
            "tags": []
          },
          "execution_count": 33
        }
      ]
    },
    {
      "cell_type": "code",
      "metadata": {
        "id": "AltgEHygkkFY",
        "colab_type": "code",
        "colab": {
          "base_uri": "https://localhost:8080/",
          "height": 410
        },
        "outputId": "8c279e63-60ff-4680-f7b3-86533ed895b0"
      },
      "source": [
        "#Visualize the closing price history\n",
        "plt.figure(figsize=(16,8))\n",
        "plt.title('Close Price History')\n",
        "plt.plot(df['Close'])\n",
        "plt.xlabel('Date', fontsize=18)\n",
        "plt.ylabel('Close Price USD ($)', fontsize=18)\n",
        "plt.show()"
      ],
      "execution_count": 34,
      "outputs": [
        {
          "output_type": "display_data",
          "data": {
            "image/png": "[encoded data removed]",
            "text/plain": [
              "<Figure size 1152x576 with 1 Axes>"
            ]
          },
          "metadata": {
            "tags": [],
            "needs_background": "light"
          }
        }
      ]
    },
    {
      "cell_type": "code",
      "metadata": {
        "id": "dTsx3iOHlrm0",
        "colab_type": "code",
        "colab": {
          "base_uri": "https://localhost:8080/",
          "height": 35
        },
        "outputId": "71d68e4a-46e7-4cf4-8606-c45c0e8f5813"
      },
      "source": [
        "#Create a new dataframe with only the Close col\n",
        "data = df.filter(['Close'])\n",
        "#Convert the dataframe to a numpy array\n",
        "dataset = data.values\n",
        "#Get the number of rows to train the model on\n",
        "training_data_len = math.ceil(len(dataset)* .8)\n",
        "\n",
        "training_data_len"
      ],
      "execution_count": 35,
      "outputs": [
        {
          "output_type": "execute_result",
          "data": {
            "text/plain": [
              "1644"
            ]
          },
          "metadata": {
            "tags": []
          },
          "execution_count": 35
        }
      ]
    },
    {
      "cell_type": "code",
      "metadata": {
        "id": "B-kahfoFmJkJ",
        "colab_type": "code",
        "colab": {
          "base_uri": "https://localhost:8080/",
          "height": 143
        },
        "outputId": "8e17cd5d-3a6b-4516-96e4-590278ec539c"
      },
      "source": [
        "#Scale the data\n",
        "scaler = MinMaxScaler(feature_range=(0,1))\n",
        "scaled_data = scaler.fit_transform(dataset)\n",
        "\n",
        "scaled_data"
      ],
      "execution_count": 36,
      "outputs": [
        {
          "output_type": "execute_result",
          "data": {
            "text/plain": [
              "array([[1.55444100e-03],\n",
              "       [7.92262835e-04],\n",
              "       [8.42409054e-04],\n",
              "       ...,\n",
              "       [8.91555380e-01],\n",
              "       [8.69011035e-01],\n",
              "       [9.02526705e-01]])"
            ]
          },
          "metadata": {
            "tags": []
          },
          "execution_count": 36
        }
      ]
    },
    {
      "cell_type": "code",
      "metadata": {
        "id": "gv7Ek_romoLY",
        "colab_type": "code",
        "colab": {
          "base_uri": "https://localhost:8080/",
          "height": 269
        },
        "outputId": "980b6190-7004-4cd5-ed4d-0935f5e94245"
      },
      "source": [
        "#Create the training dataset\n",
        "#Create the scaled training data set\n",
        "train_data = scaled_data[0:training_data_len, :]\n",
        "#Split the data into x_train and y_train data sets\n",
        "x_train = []\n",
        "y_train = []\n",
        "\n",
        "for i in range(60, len(train_data)):\n",
        "  x_train.append(train_data[i-60:i, 0])\n",
        "  y_train.append(train_data[i, 0])\n",
        "  if i <= 60:\n",
        "    print(x_train)\n",
        "    print(y_train)\n",
        "    print()\n",
        "    "
      ],
      "execution_count": 37,
      "outputs": [
        {
          "output_type": "stream",
          "text": [
            "[array([0.00155444, 0.00079226, 0.00084241, 0.00334957, 0.00131877,\n",
            "       0.00170988, 0.00148925, 0.        , 0.00124857, 0.00287321,\n",
            "       0.00677435, 0.00928652, 0.00752147, 0.00509455, 0.00555085,\n",
            "       0.005952  , 0.0087199 , 0.00974783, 0.00813322, 0.0092815 ,\n",
            "       0.00177006, 0.00290329, 0.00589182, 0.00361533, 0.00414183,\n",
            "       0.00478867, 0.00453796, 0.00481876, 0.00785242, 0.00770701,\n",
            "       0.00428223, 0.00200573, 0.00329441, 0.00317406, 0.00233166,\n",
            "       0.00148424, 0.00160459, 0.00130373, 0.00394627, 0.00188539,\n",
            "       0.00206088, 0.00168983, 0.0021712 , 0.00258739, 0.00393123,\n",
            "       0.00587177, 0.00420702, 0.00374068, 0.0043424 , 0.00317406,\n",
            "       0.00426217, 0.00457306, 0.00480873, 0.00822348, 0.00792262,\n",
            "       0.00825858, 0.00958236, 0.01350857, 0.01479725, 0.01265112])]\n",
            "[0.01438106205745425]\n",
            "\n"
          ],
          "name": "stdout"
        }
      ]
    },
    {
      "cell_type": "code",
      "metadata": {
        "id": "-s9SiUegn6f5",
        "colab_type": "code",
        "colab": {}
      },
      "source": [
        "#Conver x_train and y_train to numpy arrays\n",
        "x_train, y_train = np.array(x_train), np.array(y_train)"
      ],
      "execution_count": 0,
      "outputs": []
    },
    {
      "cell_type": "code",
      "metadata": {
        "id": "1JrDX2Y7oHUZ",
        "colab_type": "code",
        "colab": {
          "base_uri": "https://localhost:8080/",
          "height": 35
        },
        "outputId": "41e33d96-2429-4e1e-dd91-089755f3d73b"
      },
      "source": [
        "#Reshape the data\n",
        "x_train = np.reshape(x_train, (x_train.shape[0], x_train.shape[1], 1))\n",
        "x_train.shape"
      ],
      "execution_count": 39,
      "outputs": [
        {
          "output_type": "execute_result",
          "data": {
            "text/plain": [
              "(1584, 60, 1)"
            ]
          },
          "metadata": {
            "tags": []
          },
          "execution_count": 39
        }
      ]
    },
    {
      "cell_type": "code",
      "metadata": {
        "id": "zmpczQLRotlu",
        "colab_type": "code",
        "colab": {}
      },
      "source": [
        "#Build the LSTM model\n",
        "model = Sequential()\n",
        "model.add(LSTM(50, return_sequences=True, input_shape= (x_train.shape[1], 1)))\n",
        "model.add(LSTM(50, return_sequences=False))\n",
        "model.add(Dense(25))\n",
        "model.add(Dense(1))\n"
      ],
      "execution_count": 0,
      "outputs": []
    },
    {
      "cell_type": "code",
      "metadata": {
        "id": "wZkwCfmopQ3U",
        "colab_type": "code",
        "colab": {}
      },
      "source": [
        "#Compile the model\n",
        "model.compile(optimizer='adam', loss='mean_squared_error')"
      ],
      "execution_count": 0,
      "outputs": []
    },
    {
      "cell_type": "code",
      "metadata": {
        "id": "MK7LjZ1fpbSd",
        "colab_type": "code",
        "colab": {
          "base_uri": "https://localhost:8080/",
          "height": 71
        },
        "outputId": "58c7ba1f-58fa-40e7-9a2c-02bdcabefee0"
      },
      "source": [
        "#Train the model\n",
        "model.fit(x_train, y_train, batch_size=1, epochs=1)"
      ],
      "execution_count": 42,
      "outputs": [
        {
          "output_type": "stream",
          "text": [
            "Epoch 1/1\n",
            "1584/1584 [==============================] - 62s 39ms/step - loss: 7.7484e-04\n"
          ],
          "name": "stdout"
        },
        {
          "output_type": "execute_result",
          "data": {
            "text/plain": [
              "<keras.callbacks.callbacks.History at 0x7fe493370cf8>"
            ]
          },
          "metadata": {
            "tags": []
          },
          "execution_count": 42
        }
      ]
    },
    {
      "cell_type": "code",
      "metadata": {
        "id": "pe0o4ZeBqjem",
        "colab_type": "code",
        "colab": {}
      },
      "source": [
        "#Create the testing data set\n",
        "#Create a new array containing the scaled values from index from 1618 to 2097\n",
        "test_data = scaled_data[training_data_len - 60:, :]\n",
        "#Create the data sets x_test and y_test\n",
        "x_test = []\n",
        "y_test = dataset[training_data_len:, :]\n",
        "for i in range(60, len(test_data)):\n",
        "  x_test.append(test_data[i-60:i, 0])\n",
        "  "
      ],
      "execution_count": 0,
      "outputs": []
    },
    {
      "cell_type": "code",
      "metadata": {
        "id": "1zfSPhkRr0KK",
        "colab_type": "code",
        "colab": {}
      },
      "source": [
        "#Convert the test data to a numpy array\n",
        "x_test = np.array(x_test)"
      ],
      "execution_count": 0,
      "outputs": []
    },
    {
      "cell_type": "code",
      "metadata": {
        "id": "MNs-Tl4sr-47",
        "colab_type": "code",
        "colab": {}
      },
      "source": [
        "#Shape the test data\n",
        "x_test = np.reshape(x_test, (x_test.shape[0], x_test.shape[1], 1))"
      ],
      "execution_count": 0,
      "outputs": []
    },
    {
      "cell_type": "code",
      "metadata": {
        "id": "lg5W7foWsZVK",
        "colab_type": "code",
        "colab": {}
      },
      "source": [
        "#Get the model predicted price values\n",
        "predictions = model.predict(x_test)\n",
        "predictions = scaler.inverse_transform(predictions)"
      ],
      "execution_count": 0,
      "outputs": []
    },
    {
      "cell_type": "code",
      "metadata": {
        "id": "hQr5WUXus0-A",
        "colab_type": "code",
        "colab": {
          "base_uri": "https://localhost:8080/",
          "height": 35
        },
        "outputId": "ed55ed65-b684-4bc8-f8d7-b554e1f665dc"
      },
      "source": [
        "#Get the root mean squared error (RMSE)\n",
        "rmse = np.sqrt(np.mean(((predictions- y_test)**2)))\n",
        "rmse"
      ],
      "execution_count": 47,
      "outputs": [
        {
          "output_type": "execute_result",
          "data": {
            "text/plain": [
              "62.27720148339931"
            ]
          },
          "metadata": {
            "tags": []
          },
          "execution_count": 47
        }
      ]
    },
    {
      "cell_type": "code",
      "metadata": {
        "id": "z9U7LsE1uN9P",
        "colab_type": "code",
        "colab": {
          "base_uri": "https://localhost:8080/",
          "height": 538
        },
        "outputId": "045c8da8-92f7-4109-f4bb-a0ba31336d2b"
      },
      "source": [
        "#Plot the data\n",
        "train = data[:training_data_len]\n",
        "valid = data[training_data_len:]\n",
        "valid['Predictions'] = predictions\n",
        "#Visualize the data\n",
        "plt.figure(figsize=(16,8))\n",
        "plt.title('Model')\n",
        "plt.xlabel('Date', fontsize=18)\n",
        "plt.ylabel('Close Price USD ($)', fontsize=18)\n",
        "plt.plot(train['Close'])\n",
        "plt.plot(valid[['Close', 'Predictions']])\n",
        "plt.legend(['Train', 'Val', 'Predictions'], loc='lower right')\n",
        "plt.show()\n"
      ],
      "execution_count": 48,
      "outputs": [
        {
          "output_type": "stream",
          "text": [
            "/usr/local/lib/python3.6/dist-packages/ipykernel_launcher.py:3: SettingWithCopyWarning: \n",
            "A value is trying to be set on a copy of a slice from a DataFrame.\n",
            "Try using .loc[row_indexer,col_indexer] = value instead\n",
            "\n",
            "See the caveats in the documentation: https://pandas.pydata.org/pandas-docs/stable/user_guide/indexing.html#returning-a-view-versus-a-copy\n",
            "  This is separate from the ipykernel package so we can avoid doing imports until\n"
          ],
          "name": "stderr"
        },
        {
          "output_type": "display_data",
          "data": {
            "image/png": "[encoded data removed]",
            "text/plain": [
              "<Figure size 1152x576 with 1 Axes>"
            ]
          },
          "metadata": {
            "tags": [],
            "needs_background": "light"
          }
        }
      ]
    },
    {
      "cell_type": "code",
      "metadata": {
        "id": "KjcxGtOAvcYG",
        "colab_type": "code",
        "colab": {
          "base_uri": "https://localhost:8080/",
          "height": 450
        },
        "outputId": "705dee7a-a198-46d1-9adb-4e8e86c5d84f"
      },
      "source": [
        "#Show the valid and predicted prices\n",
        "valid"
      ],
      "execution_count": 49,
      "outputs": [
        {
          "output_type": "execute_result",
          "data": {
            "text/html": [
              "<div>\n",
              "<style scoped>\n",
              "    .dataframe tbody tr th:only-of-type {\n",
              "        vertical-align: middle;\n",
              "    }\n",
              "\n",
              "    .dataframe tbody tr th {\n",
              "        vertical-align: top;\n",
              "    }\n",
              "\n",
              "    .dataframe thead th {\n",
              "        text-align: right;\n",
              "    }\n",
              "</style>\n",
              "<table border=\"1\" class=\"dataframe\">\n",
              "  <thead>\n",
              "    <tr style=\"text-align: right;\">\n",
              "      <th></th>\n",
              "      <th>Close</th>\n",
              "      <th>Predictions</th>\n",
              "    </tr>\n",
              "    <tr>\n",
              "      <th>Date</th>\n",
              "      <th></th>\n",
              "      <th></th>\n",
              "    </tr>\n",
              "  </thead>\n",
              "  <tbody>\n",
              "    <tr>\n",
              "      <th>2018-07-17</th>\n",
              "      <td>1843.930054</td>\n",
              "      <td>1783.213013</td>\n",
              "    </tr>\n",
              "    <tr>\n",
              "      <th>2018-07-18</th>\n",
              "      <td>1842.920044</td>\n",
              "      <td>1799.338013</td>\n",
              "    </tr>\n",
              "    <tr>\n",
              "      <th>2018-07-19</th>\n",
              "      <td>1812.969971</td>\n",
              "      <td>1814.354614</td>\n",
              "    </tr>\n",
              "    <tr>\n",
              "      <th>2018-07-20</th>\n",
              "      <td>1813.699951</td>\n",
              "      <td>1824.532959</td>\n",
              "    </tr>\n",
              "    <tr>\n",
              "      <th>2018-07-23</th>\n",
              "      <td>1802.000000</td>\n",
              "      <td>1831.219482</td>\n",
              "    </tr>\n",
              "    <tr>\n",
              "      <th>...</th>\n",
              "      <td>...</td>\n",
              "      <td>...</td>\n",
              "    </tr>\n",
              "    <tr>\n",
              "      <th>2020-02-27</th>\n",
              "      <td>1884.300049</td>\n",
              "      <td>2087.810547</td>\n",
              "    </tr>\n",
              "    <tr>\n",
              "      <th>2020-02-28</th>\n",
              "      <td>1883.750000</td>\n",
              "      <td>2057.064453</td>\n",
              "    </tr>\n",
              "    <tr>\n",
              "      <th>2020-03-02</th>\n",
              "      <td>1953.949951</td>\n",
              "      <td>2025.283569</td>\n",
              "    </tr>\n",
              "    <tr>\n",
              "      <th>2020-03-03</th>\n",
              "      <td>1908.989990</td>\n",
              "      <td>2002.399414</td>\n",
              "    </tr>\n",
              "    <tr>\n",
              "      <th>2020-03-04</th>\n",
              "      <td>1975.829956</td>\n",
              "      <td>1982.107788</td>\n",
              "    </tr>\n",
              "  </tbody>\n",
              "</table>\n",
              "<p>411 rows × 2 columns</p>\n",
              "</div>"
            ],
            "text/plain": [
              "                  Close  Predictions\n",
              "Date                                \n",
              "2018-07-17  1843.930054  1783.213013\n",
              "2018-07-18  1842.920044  1799.338013\n",
              "2018-07-19  1812.969971  1814.354614\n",
              "2018-07-20  1813.699951  1824.532959\n",
              "2018-07-23  1802.000000  1831.219482\n",
              "...                 ...          ...\n",
              "2020-02-27  1884.300049  2087.810547\n",
              "2020-02-28  1883.750000  2057.064453\n",
              "2020-03-02  1953.949951  2025.283569\n",
              "2020-03-03  1908.989990  2002.399414\n",
              "2020-03-04  1975.829956  1982.107788\n",
              "\n",
              "[411 rows x 2 columns]"
            ]
          },
          "metadata": {
            "tags": []
          },
          "execution_count": 49
        }
      ]
    },
    {
      "cell_type": "code",
      "metadata": {
        "id": "x462GSHwvsJE",
        "colab_type": "code",
        "colab": {
          "base_uri": "https://localhost:8080/",
          "height": 35
        },
        "outputId": "6b698adb-c1b7-47fe-a48a-120a472c19c7"
      },
      "source": [
        "#Get the quote\n",
        "amzn_quote = web.DataReader('AMZN', data_source='yahoo', start='2012-01-01', end='2020-05-03')\n",
        "#Create a new dataframe\n",
        "new_df = amzn_quote.filter(['Close'])\n",
        "#Get the last 60 day closing price values and conver the dataframe to an array\n",
        "last_60_days = new_df[-60:].values\n",
        "#Scale the data to be values between 0 and 1\n",
        "last_60_days_scaled = scaler.transform(last_60_days)\n",
        "#Create an empty list\n",
        "X_test = []\n",
        "#Append the past 60 days to X_test\n",
        "X_test.append(last_60_days_scaled)\n",
        "#Convert the X_test data set to a numpy array\n",
        "X_test = np.array(X_test)\n",
        "#Reshape the data\n",
        "X_test = np.reshape(X_test, (X_test.shape[0], X_test.shape[1], 1))\n",
        "#Get the predicted scaled price\n",
        "pred_price = model.predict(X_test)\n",
        "#undo scaling\n",
        "pred_price = scaler.inverse_transform(pred_price)\n",
        "print(pred_price)\n"
      ],
      "execution_count": 50,
      "outputs": [
        {
          "output_type": "stream",
          "text": [
            "[[2355.2432]]\n"
          ],
          "name": "stdout"
        }
      ]
    },
    {
      "cell_type": "code",
      "metadata": {
        "id": "oJCDADEpxXmA",
        "colab_type": "code",
        "colab": {
          "base_uri": "https://localhost:8080/",
          "height": 71
        },
        "outputId": "e1d5d648-174a-4286-ab2a-6fd5e7d60b4c"
      },
      "source": [
        "#Get the quote\n",
        "amzn_quote2 = web.DataReader('AMZN', data_source='yahoo', start='2020-05-04', end='2020-05-04')\n",
        "print(amzn_quote2['Close'])"
      ],
      "execution_count": 51,
      "outputs": [
        {
          "output_type": "stream",
          "text": [
            "Date\n",
            "2020-05-04    2315.98999\n",
            "Name: Close, dtype: float64\n"
          ],
          "name": "stdout"
        }
      ]
    }
  ]
}